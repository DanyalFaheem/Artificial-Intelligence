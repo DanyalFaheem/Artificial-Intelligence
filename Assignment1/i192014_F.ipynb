{
 "cells": [
  {
   "cell_type": "markdown",
   "metadata": {},
   "source": [
    "Question 1"
   ]
  },
  {
   "cell_type": "markdown",
   "metadata": {},
   "source": [
    "Part A"
   ]
  },
  {
   "cell_type": "code",
   "execution_count": 7,
   "metadata": {},
   "outputs": [
    {
     "name": "stdout",
     "output_type": "stream",
     "text": [
      "The number of cars required are:  3\n"
     ]
    }
   ],
   "source": [
    "bookings = [[1,5], [3,8], [7, 10], [11, 15]]\n",
    "# Making a list of cars to keep track\n",
    "cars = [bookings[0]]\n",
    "counter = 0\n",
    "for book in bookings:\n",
    "    for car in cars:\n",
    "        # If car has is free during booking time, then don't add else add\n",
    "        if book[0] > car[0] and book[0] < car[0] and book[1] > car[1] and book[1] < car[1]:\n",
    "            counter += 0\n",
    "        else:\n",
    "            if book in cars:\n",
    "                counter += 0\n",
    "            else:\n",
    "                counter += 1\n",
    "                cars.append(book)\n",
    "print(\"The number of cars required are: \", counter)"
   ]
  },
  {
   "cell_type": "markdown",
   "metadata": {},
   "source": [
    "Part B"
   ]
  },
  {
   "cell_type": "code",
   "execution_count": 10,
   "metadata": {},
   "outputs": [
    {
     "name": "stdout",
     "output_type": "stream",
     "text": [
      "[[2, 4], [2, 4]]\n"
     ]
    }
   ],
   "source": [
    "def most_frequent_elements_in_lis(elem_list, left, right, frequency):\n",
    "    # Make two lists to keep track\n",
    "    digits = [] \n",
    "    freq = []\n",
    "    for i in range(left, right):\n",
    "        # Add 1 to frequency list for each appended\n",
    "        if elem_list[i] in digits:\n",
    "            freq[digits.index(elem_list[i])] += 1\n",
    "        else:\n",
    "        # Append to list if not seen before\n",
    "            digits.append(elem_list[i])\n",
    "            freq.append(1)\n",
    "    freq_elements = []\n",
    "    for i in range(len(digits)):\n",
    "        # Only return elements with a frequence greater than threshold\n",
    "        if freq[i] >= frequency:\n",
    "            freq_elements.append(digits)\n",
    "    return freq_elements\n",
    "\n",
    "lis = [2,2,4,2,4,5,6,1,1]\n",
    "print(most_frequent_elements_in_lis(lis,0,5,2) )"
   ]
  },
  {
   "cell_type": "markdown",
   "metadata": {},
   "source": [
    "Part C (i)"
   ]
  },
  {
   "cell_type": "code",
   "execution_count": 27,
   "metadata": {},
   "outputs": [
    {
     "name": "stdout",
     "output_type": "stream",
     "text": [
      "{'p18-1001': {'english': 61.5, 'calculus': 38.5}, 'p18-1002': {'english': 38.5, 'programming fundaments': 38.5}, 'p18-1003': {'calculus': 36.9, 'programming fundamentals': 38.5}}\n"
     ]
    }
   ],
   "source": [
    "Assessments = [{\n",
    "'roll_no': 'p18-1001', \n",
    "'marks': {\n",
    "'english': (1.4, 2.5, 15, 9.6, 33),\n",
    "'calculus': (2.4, 1.5, 12, 1.6, 21),\n",
    "}, 'attendance': 88.4\n",
    "},\n",
    "{'roll_no': 'p18-1002', \n",
    "'marks': {\n",
    "'english': (2.4, 1.5, 12, 1.6, 21),\n",
    "'programming fundaments': (2.4, 1.5, 12, 1.6, 21),\n",
    "}, 'attendance': 79.4\n",
    "},\n",
    "{'roll_no': 'p18-1003', \n",
    "'marks': {\n",
    "'calculus': (2.4, 1.5, 12, None, 21),\n",
    "'programming fundamentals': (2.4, 1.5, 12, 1.6, 21),\n",
    "}, 'attendance': 79.4 }]\n",
    "\n",
    "def get_student_marks(assessments):\n",
    "    marks = {}\n",
    "    for asses in assessments:\n",
    "        mark = asses[\"marks\"]\n",
    "        # Create empty dictionary\n",
    "        student = {}\n",
    "        for m in mark:\n",
    "            # Sum up the marks removing None from lists\n",
    "            student[m] = sum(filter(None, list(mark[m])))\n",
    "        #Add newly created student dictionary to the marks dictionary\n",
    "        marks[asses[\"roll_no\"]] = student\n",
    "    return marks\n",
    "    \n",
    "print(get_student_marks(Assessments))\n"
   ]
  },
  {
   "cell_type": "markdown",
   "metadata": {},
   "source": [
    "Part C (ii)"
   ]
  },
  {
   "cell_type": "code",
   "execution_count": 36,
   "metadata": {},
   "outputs": [
    {
     "name": "stdout",
     "output_type": "stream",
     "text": [
      "F\n"
     ]
    }
   ],
   "source": [
    "def get_grade(marks, policy):\n",
    "    for p in policy:\n",
    "        # If marks are above the threshold, return that marks\n",
    "        if marks >= policy[p]:\n",
    "            return p\n",
    "    # If entire list traversed, then F grade it is\n",
    "    return 'F'\n",
    "\n",
    "pol = {'A': 80, 'B': 70, 'C': 60, 'D': 50}\n",
    "print(get_grade(49, pol))"
   ]
  },
  {
   "cell_type": "markdown",
   "metadata": {},
   "source": [
    "Question 2"
   ]
  },
  {
   "cell_type": "markdown",
   "metadata": {},
   "source": [
    "Part A"
   ]
  },
  {
   "cell_type": "markdown",
   "metadata": {},
   "source": [
    "Part (i)"
   ]
  },
  {
   "cell_type": "code",
   "execution_count": 1,
   "metadata": {},
   "outputs": [
    {
     "name": "stdout",
     "output_type": "stream",
     "text": [
      "Second Highest: 34\n"
     ]
    }
   ],
   "source": [
    "#Importing numpy as gonna be required later on\n",
    "import numpy as np\n",
    "def second_Max_RowSum(mat):\n",
    "    #Definiing default values\n",
    "    highest = -100000\n",
    "    secondHighest = -100000\n",
    "    for arr in mat:\n",
    "        # If highest changes then update secondHighest too\n",
    "        if np.sum(arr) > highest:\n",
    "            secondHighest = highest\n",
    "            highest = np.sum(arr)\n",
    "        elif np.sum(arr) > secondHighest:\n",
    "            # If only second highest Changes\n",
    "            secondHighest = np.sum(arr)\n",
    "    return secondHighest\n",
    "\n",
    "#Making random matrix\n",
    "matrix = np.random.randint(1,10,size = (7,7) )\n",
    "print(\"Second Highest:\", second_Max_RowSum(matrix))"
   ]
  },
  {
   "cell_type": "markdown",
   "metadata": {},
   "source": [
    "Part (ii)"
   ]
  },
  {
   "cell_type": "code",
   "execution_count": 17,
   "metadata": {},
   "outputs": [
    {
     "name": "stdout",
     "output_type": "stream",
     "text": [
      "1 0 4\n",
      "2 0 2\n",
      "3 0 8\n",
      "4 0 6\n",
      "5 0 1\n",
      "6 0 4\n"
     ]
    },
    {
     "data": {
      "text/plain": [
       "'Not a Triangular Matrix'"
      ]
     },
     "execution_count": 17,
     "metadata": {},
     "output_type": "execute_result"
    }
   ],
   "source": [
    "def isUpperorLower(mat):\n",
    "    check = True\n",
    "    # Traversing the Upper triangular Matrix to make sure no value is 0\n",
    "    for i in range(len(mat)):\n",
    "        for j in range(i + 1, len(mat)):\n",
    "            if j < len(mat):\n",
    "                if mat[i][j] != 0:\n",
    "                    check = False\n",
    "                    break\n",
    "    if check == True:\n",
    "        return \"Lower Triangular Matrix\"\n",
    "    check = True\n",
    "        # Traversing the Lower triangular Matrix to make sure no value is 0\n",
    "    for i in range(1, len(mat)):\n",
    "        for j in range(i):\n",
    "            if j < len(mat):\n",
    "                if mat[i][j] != 0:\n",
    "                    check = False\n",
    "                    break   \n",
    "    if check == True:\n",
    "        return \"Upper Triangular Matrix\"\n",
    "    # If not a triangular matrix\n",
    "    return \"Not a Triangular Matrix\"\n",
    "# array = [[3 ,0, 0, 0],\n",
    "#         [0 ,0, 0, 0],\n",
    "#         [0 ,0, 9, 0],\n",
    "#         [0 ,1, 0, 2]]\n",
    "isUpperorLower(matrix)"
   ]
  },
  {
   "cell_type": "markdown",
   "metadata": {},
   "source": [
    "Part (iii)"
   ]
  },
  {
   "cell_type": "code",
   "execution_count": 18,
   "metadata": {},
   "outputs": [
    {
     "data": {
      "text/plain": [
       "array([4, 5, 1, 4, 1, 2, 1])"
      ]
     },
     "execution_count": 18,
     "metadata": {},
     "output_type": "execute_result"
    }
   ],
   "source": [
    "def minimumSumRow(mat):\n",
    "    # Defining Default Values\n",
    "    minimum = 1000000\n",
    "    array = []\n",
    "    for arr in mat:\n",
    "        # Check if less than minimum, then replace value\n",
    "        if np.sum(arr) < minimum:\n",
    "            minimum = np.sum(arr)\n",
    "            array = arr\n",
    "    return array\n",
    "\n",
    "minimumSumRow(matrix)"
   ]
  },
  {
   "cell_type": "markdown",
   "metadata": {},
   "source": [
    "Part (iv)"
   ]
  },
  {
   "cell_type": "code",
   "execution_count": 108,
   "metadata": {},
   "outputs": [
    {
     "name": "stdout",
     "output_type": "stream",
     "text": [
      "[[2 1 4 9 3]\n",
      " [8 4 4 7 7]\n",
      " [3 3 6 3 7]\n",
      " [5 9 2 2 4]\n",
      " [2 7 6 7 3]]\n",
      "5\n",
      "[[3 3 6 3 7]\n",
      " [8 4 4 7 7]\n",
      " [2 1 4 9 3]\n",
      " [5 9 2 2 4]\n",
      " [2 7 6 7 3]]\n"
     ]
    }
   ],
   "source": [
    "def swap_odd_rows(mat):\n",
    "    # temp = []\n",
    "    # temp = mat[0]\n",
    "    # mat[0] = mat[2]\n",
    "    # mat[2] = temp\n",
    "    # temp = mat[4]\n",
    "    # mat[4] = mat[6]\n",
    "    # mat[6] = temp\n",
    "    # return mat\n",
    "    # Swapping 1st row with 3rd and 5th row with 7th\n",
    "    print(mat)\n",
    "    i = 1\n",
    "    while i < len(mat):\n",
    "        if i % 2 == 1:\n",
    "            if i + 1 < len(mat) and i - 1 >= 0:\n",
    "                # Swapping rows\n",
    "                temp = np.copy(mat[i - 1])\n",
    "                mat[i - 1] = mat[i + 1]\n",
    "                mat[i + 1] = temp\n",
    "            i += 4\n",
    "    return mat\n",
    "\n",
    "\n",
    "matrix1 = np.random.randint(1,10,size = (5,5) )\n",
    "print(swap_odd_rows(matrix1))"
   ]
  },
  {
   "cell_type": "markdown",
   "metadata": {},
   "source": [
    "Part (v)"
   ]
  },
  {
   "cell_type": "code",
   "execution_count": 21,
   "metadata": {},
   "outputs": [
    {
     "name": "stdout",
     "output_type": "stream",
     "text": [
      "[5, 2, 5, 4, 4, 4, 4]\n"
     ]
    }
   ],
   "source": [
    "def meanOfRows(mat):\n",
    "    mean = []\n",
    "    for row in mat:\n",
    "        # Calculating mean and appending to list\n",
    "        mean.append(int(np.sum(row) / len(row)))\n",
    "    return mean\n",
    "\n",
    "print(meanOfRows(matrix))"
   ]
  },
  {
   "cell_type": "markdown",
   "metadata": {},
   "source": [
    "Part (vi)"
   ]
  },
  {
   "cell_type": "code",
   "execution_count": 27,
   "metadata": {},
   "outputs": [
    {
     "name": "stdout",
     "output_type": "stream",
     "text": [
      "[[1 1 1 1 1 1 1]\n",
      " [2 5 4 1 1 2 2]\n",
      " [2 5 4 2 1 6 3]\n",
      " [4 7 4 3 6 7 3]\n",
      " [4 7 5 3 7 7 6]\n",
      " [4 7 5 4 9 8 9]\n",
      " [8 7 5 9 9 8 9]]\n"
     ]
    }
   ],
   "source": [
    "def sortColumns(mat):\n",
    "    # Taking transpose of matrix for columns to become rows now\n",
    "    copy = mat.T\n",
    "    counter = 0\n",
    "    for row in copy:\n",
    "        # As rows are our columns, just sorting them\n",
    "        copy[counter] = np.sort(row)\n",
    "        counter += 1\n",
    "    # Returning the transpose to change rows back to columns\n",
    "    return copy.T\n",
    "print(sortColumns(matrix))    "
   ]
  },
  {
   "cell_type": "markdown",
   "metadata": {},
   "source": [
    "Part B"
   ]
  },
  {
   "cell_type": "code",
   "execution_count": null,
   "metadata": {},
   "outputs": [],
   "source": [
    "def charMatrix(mat, str):\n",
    "    j = 0\n",
    "    for i in range(len(str)):\n",
    "        # Updating to start of matrix if N reached\n",
    "        if j >= (len(mat)):\n",
    "            j = 0\n",
    "        # If a character already discovered, then change value to - so it can't be used again\n",
    "        if str[i] in mat[j]:\n",
    "            x = mat[j].where(str[i])\n",
    "            mat[j][x] = '-'\n",
    "        else:\n",
    "            return 'No'\n",
    "    return 'Yes'\n",
    "\n",
    "        "
   ]
  },
  {
   "cell_type": "markdown",
   "metadata": {},
   "source": [
    "Part C"
   ]
  },
  {
   "cell_type": "code",
   "execution_count": 31,
   "metadata": {},
   "outputs": [
    {
     "name": "stdout",
     "output_type": "stream",
     "text": [
      "The maximum sum of hourglass is: 44\n",
      "The hourglass with maximum sum is: [3, 6, 7, 0, 7, 0, 4, 9, 8]\n"
     ]
    }
   ],
   "source": [
    "def hourglass(mat):\n",
    "    # Defining default values\n",
    "    sum = -10000000\n",
    "    array = []\n",
    "    for i in range(0,4):\n",
    "        array1 = []\n",
    "        for j in range(0,4):\n",
    "            # Getting our hourglass values, adding 0 for padding\n",
    "            array1 = [mat[i][j], mat[i][j + 1], mat[i][j + 2], 0, mat[i + 1][j + 1], 0, mat[i + 2][j], mat[i + 2][j + 1], mat[i + 2][j + 2]]\n",
    "            if np.sum(array1) > sum:\n",
    "            # Update values if sum is greater and keep value of new hourglass\n",
    "                sum = np.sum(array1)\n",
    "                array = array1\n",
    "    print(\"The maximum sum of hourglass is:\", sum)\n",
    "    print(\"The hourglass with maximum sum is:\", array)\n",
    "\n",
    "hourglass(matrix)"
   ]
  },
  {
   "cell_type": "markdown",
   "metadata": {},
   "source": [
    "Part D"
   ]
  },
  {
   "cell_type": "markdown",
   "metadata": {},
   "source": [
    "Part (i)"
   ]
  },
  {
   "cell_type": "code",
   "execution_count": 34,
   "metadata": {},
   "outputs": [
    {
     "name": "stdout",
     "output_type": "stream",
     "text": [
      "[-1  6 -1  0 -1  0  4 -1  8]\n"
     ]
    }
   ],
   "source": [
    "def replaceArr(arr):\n",
    "    # Using the builtin function to just check mod values\n",
    "    arr[arr % 2 == 1] = -1\n",
    "    print(arr)\n",
    "\n",
    "replaceArr(np.array([3, 6, 7, 0, 7, 0, 4, 9, 8]))"
   ]
  },
  {
   "cell_type": "markdown",
   "metadata": {},
   "source": [
    "Part (ii)"
   ]
  },
  {
   "cell_type": "code",
   "execution_count": 55,
   "metadata": {},
   "outputs": [
    {
     "data": {
      "text/plain": [
       "[10, 5, 8, 9]"
      ]
     },
     "execution_count": 55,
     "metadata": {},
     "output_type": "execute_result"
    }
   ],
   "source": [
    "def getArray(arr):\n",
    "    # Making temp list in function\n",
    "    copy = []\n",
    "    for a in arr:\n",
    "        # Checking conditions\n",
    "        if a <= 10 and a >= 5:\n",
    "            copy.append(a)\n",
    "    return copy\n",
    "\n",
    "# Making random size array every time\n",
    "getArray(np.random.randint(1,17,size = (np.random.randint(1,17,size = (1)))))"
   ]
  },
  {
   "cell_type": "markdown",
   "metadata": {},
   "source": [
    "Question 3"
   ]
  },
  {
   "cell_type": "markdown",
   "metadata": {},
   "source": [
    "Part A"
   ]
  },
  {
   "cell_type": "code",
   "execution_count": 78,
   "metadata": {},
   "outputs": [
    {
     "data": {
      "text/plain": [
       "True"
      ]
     },
     "execution_count": 78,
     "metadata": {},
     "output_type": "execute_result"
    }
   ],
   "source": [
    "def anagram(str1, str2):\n",
    "    # Checking first condition of size of each string\n",
    "    if len(str1) != len(str2) or str1 == str2:\n",
    "        return False\n",
    "    for i in range(len(str1)):\n",
    "        # If character is present in other string, then moving on\n",
    "        if str1[i] in str2:\n",
    "            continue\n",
    "        else:\n",
    "            return False\n",
    "    # If all characters are present then true\n",
    "    return True\n",
    "\n",
    "anagram(\"abc\", \"acb\")"
   ]
  },
  {
   "cell_type": "markdown",
   "metadata": {},
   "source": [
    "Part B"
   ]
  },
  {
   "cell_type": "code",
   "execution_count": 59,
   "metadata": {},
   "outputs": [
    {
     "data": {
      "text/plain": [
       "False"
      ]
     },
     "execution_count": 59,
     "metadata": {},
     "output_type": "execute_result"
    }
   ],
   "source": [
    "def rotation(str1, str2):\n",
    "    # Checking first condition of size of each string\n",
    "    if len(str1) != len(str2):\n",
    "        return False\n",
    "    for i in range(len(str1)):\n",
    "        # If character is present in other string and not at the same location, then moving on\n",
    "        if str1[i] in str2 and str1[i] != str2[i]:\n",
    "            continue\n",
    "        else:\n",
    "            return False\n",
    "    return True\n",
    "\n",
    "rotation(\"XYZ\", \"YXZ\")"
   ]
  },
  {
   "cell_type": "markdown",
   "metadata": {},
   "source": [
    "Part C"
   ]
  },
  {
   "cell_type": "code",
   "execution_count": 71,
   "metadata": {},
   "outputs": [
    {
     "data": {
      "text/plain": [
       "False"
      ]
     },
     "execution_count": 71,
     "metadata": {},
     "output_type": "execute_result"
    }
   ],
   "source": [
    "def superString(str):\n",
    "    alphabet = {}\n",
    "    char = 'Z'\n",
    "    # Creating our new dictionary of alphabets\n",
    "    for i in range (1, 27):\n",
    "        alphabet[char] = i\n",
    "        char = chr(ord(char) - 1)\n",
    "    for s in str:\n",
    "        # Checking count of char in string according to dictionary value\n",
    "        if str.count(s) == alphabet[s]:\n",
    "            continue\n",
    "        else:\n",
    "            return False\n",
    "    return True\n",
    "\n",
    "superString(\"ZYYZ\")"
   ]
  },
  {
   "cell_type": "markdown",
   "metadata": {},
   "source": [
    "Part D"
   ]
  },
  {
   "cell_type": "code",
   "execution_count": 76,
   "metadata": {},
   "outputs": [
    {
     "data": {
      "text/plain": [
       "{'A', 'ABBA', 'B', 'BB'}"
      ]
     },
     "execution_count": 76,
     "metadata": {},
     "output_type": "execute_result"
    }
   ],
   "source": [
    "def substringPalindrome(str):\n",
    "    # Creating a new set here\n",
    "    sets = set()\n",
    "    for i in range(len(str)):\n",
    "        for j in range(i + 1, len(str) + 1):\n",
    "            # Creating substrings of each possible size and characters\n",
    "            str1 = str[i:j]\n",
    "            # Checking for palindrome by checking reverse string equal to original string\n",
    "            if str1[::-1] == str1:\n",
    "                # If palindrome, add to set, set will automatically discard duplicate values, thus no need to check for uniqueness\n",
    "                sets.add(str1)\n",
    "    return sets\n",
    "\n",
    "substringPalindrome(\"ABBA\")"
   ]
  },
  {
   "cell_type": "markdown",
   "metadata": {},
   "source": [
    "Question 4"
   ]
  },
  {
   "cell_type": "code",
   "execution_count": 22,
   "metadata": {},
   "outputs": [
    {
     "name": "stdout",
     "output_type": "stream",
     "text": [
      "[[Clove:8, Spade:King, Diamond:9, Spade:8, Heart:Ace], [Diamond:6, Diamond:Ace, Heart:4, Spade:3, Diamond:2]] 42\n",
      "The card at top is: Clove:3\n",
      "It is turn of player 1\n",
      "Your current cards are [Clove:8, Spade:King, Diamond:9, Spade:8, Heart:Ace]\n",
      "Invalid card. Please follow the Rules!\n",
      "[Clove:8, Spade:King, Diamond:9, Spade:8, Heart:Ace]\n",
      "The card at top is: Clove:3\n",
      "It is turn of player 2\n",
      "Your current cards are [Diamond:6, Diamond:Ace, Heart:4, Spade:3, Diamond:2]\n",
      "Invalid card. Please follow the Rules!\n",
      "[Diamond:6, Diamond:Ace, Heart:4, Spade:3, Diamond:2]\n"
     ]
    }
   ],
   "source": [
    "# Importing our libraries for use at start\n",
    "import random\n",
    "import copy\n",
    "\n",
    "# Class of Card, each card represents one card in the Deck\n",
    "class Card():\n",
    "    def __init__(self, suit, rank):\n",
    "        self.suit = suit\n",
    "        self.rank = rank\n",
    "    # Defining representation for easy output\n",
    "    def __repr__(self):\n",
    "        return str(self.suit) + \":\" + str(self.rank)\n",
    "    # Our relevant getter setters\n",
    "    def getSuit(self):\n",
    "        return self.suit\n",
    "    def getRank(self):\n",
    "        return self.rank\n",
    "    def setSuit(self, suit):\n",
    "        self.suit = suit\n",
    "    def setRank(self, rank):\n",
    "        self.rank = rank\n",
    "\n",
    "# Class Deck which would be our start Deck and Discard Pile later on\n",
    "class Deck():\n",
    "    # Our list of cards\n",
    "    cards = []\n",
    "\n",
    "    def __init__(self):\n",
    "        # Initializing our deck with the original 52 cards\n",
    "        dict = [1, 2, 3, 4, 5, 6, 7, 8, 9, \"Jack\", \"Queen\", \"King\", \"Ace\"]\n",
    "        for i in range(0, 53):\n",
    "            if int(i / 13) == 0:\n",
    "                self.cards.append(Card(\"Spade\", dict[i % 13]))\n",
    "            elif int(i / 13) == 1:\n",
    "                self.cards.append(Card(\"Heart\", dict[i % 13]))\n",
    "            elif int(i / 13) == 2:\n",
    "                self.cards.append(Card(\"Clove\", dict[i % 13]))\n",
    "            elif int(i / 13) == 3:\n",
    "                self.cards.append(Card(\"Diamond\", dict[i % 13]))\n",
    "    \n",
    "    # Defining representation for easy output\n",
    "    def __repr__(self):\n",
    "        return str(self.cards)\n",
    "\n",
    "    # Shuffle function to shuffle our deck\n",
    "    def shuffle(self):\n",
    "        random.shuffle(self.cards)\n",
    "\n",
    "    # Defining own find and Delete functions for our deck\n",
    "    def find(self, card):\n",
    "        return self.cards.index(card)\n",
    "\n",
    "    def delete(self, card):\n",
    "        del self.cards[self.find(card)]\n",
    "    # Function to cut the deck randomly\n",
    "    def cutDeck(self):\n",
    "        # self.cards = self.cards[random.randint(1, int(len(self.cards) / 2))]\n",
    "        self.shuffle()\n",
    "\n",
    "# Our player class for each Player\n",
    "class Player():\n",
    "    # Cards list for each Player\n",
    "    cards = []\n",
    "\n",
    "    def __init__(self, cards=0):\n",
    "        self.cards = cards\n",
    "    # Defining representation for easy output\n",
    "    def __repr__(self):\n",
    "        return str(self.cards)\n",
    "    # Relevant getter setters\n",
    "    def getCards(self):\n",
    "        return self.cards\n",
    "    \n",
    "    def setCards(self, cards):\n",
    "        self.cards = cards\n",
    "\n",
    "# Our Main Driver Class\n",
    "class Game():\n",
    "    # Main Players list\n",
    "    Players = []\n",
    "    # Main Deck Object that is our discard pile later on\n",
    "    Deck = Deck()\n",
    "    def __init__(self):\n",
    "        playerCards = []\n",
    "        # Shuffling our deck before distributing cards\n",
    "        self.Deck.shuffle()\n",
    "        for i in range(int(input(\"Enter number of players: \\n\"))):\n",
    "            playerCards = []\n",
    "            # Distributing original 5 cards to each player\n",
    "            for j in range(5):\n",
    "                index = random.randint(0, len(self.Deck.cards))\n",
    "                playerCards.append(copy.deepcopy(self.Deck.cards[index]))\n",
    "                self.Deck.delete(self.Deck.cards[index])\n",
    "            self.Players.append(Player(playerCards))\n",
    "            # Cutting our deck after distributing cards\n",
    "            self.Deck.cutDeck()\n",
    "        print(self.Players, len(self.Deck.cards))\n",
    "    \n",
    "    # Our main driver function that will run in the game\n",
    "    def playGame(self):\n",
    "        gameOver = False\n",
    "        while gameOver != True:\n",
    "            # Traversing player by player\n",
    "            for player in self.Players:\n",
    "                card = self.Deck.cards[0]\n",
    "                playerDeck = player.getCards()\n",
    "                # Asking the player for his choice\n",
    "                print(\"The card at top is:\" ,card)\n",
    "                print(\"It is turn of player\", self.Players.index(player) + 1)\n",
    "                print(\"Your current cards are\", playerDeck)\n",
    "                # Getting input here\n",
    "                inp = int(input(\"Which card would you like to play? Enter between 1 and \" + str(len(playerDeck)) + \"\\n Enter 0 to pass\"))\n",
    "                # If player wants to pass his turn\n",
    "                if inp == 0:\n",
    "                    continue\n",
    "                # Checking if same suits\n",
    "                elif card.getSuit() != playerDeck[inp - 1].getSuit():  \n",
    "                    print(\"Invalid card. Please follow the Rules!\")\n",
    "                \n",
    "                elif isinstance(playerDeck[inp - 1].getCard(), int) and isinstance(card.getRank(), int):\n",
    "                    # Checking if the same suit but in order ranks\n",
    "                    if int(card.getRank()) != 1 + int(playerDeck[inp - 1].getRank()):\n",
    "                        print(\"Invalid card. Please follow the Rules!\")\n",
    "                    # If In order ranks, update cards accordingly\n",
    "                    elif int(playerDeck[inp - 1].getRank()) <= 4 and int(playerDeck[inp - 1].getRank()) >= 2:\n",
    "                        for i in range(0, int(playerDeck[inp - 1].getRank())):\n",
    "                            self.Players[self.Players.index(player) + 1].getCards().append(copy.deepcopy(self.Deck.getCards[i]))\n",
    "                            self.Deck.delete(self.Deck.cards[i])\n",
    "                print(playerDeck)\n",
    "            break\n",
    "        \n",
    "\n",
    "# Start the game here\n",
    "G = Game()\n",
    "G.playGame()"
   ]
  },
  {
   "cell_type": "code",
   "execution_count": null,
   "metadata": {},
   "outputs": [],
   "source": []
  },
  {
   "cell_type": "code",
   "execution_count": null,
   "metadata": {},
   "outputs": [],
   "source": []
  }
 ],
 "metadata": {
  "interpreter": {
   "hash": "1549ce3063763f935520ac985005088d5bf77a87440f3a3f58b22301df0cff46"
  },
  "kernelspec": {
   "display_name": "Python 3.8.8 ('DIP')",
   "language": "python",
   "name": "python3"
  },
  "language_info": {
   "codemirror_mode": {
    "name": "ipython",
    "version": 3
   },
   "file_extension": ".py",
   "mimetype": "text/x-python",
   "name": "python",
   "nbconvert_exporter": "python",
   "pygments_lexer": "ipython3",
   "version": "3.8.8"
  },
  "orig_nbformat": 4
 },
 "nbformat": 4,
 "nbformat_minor": 2
}
