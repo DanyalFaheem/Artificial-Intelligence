{
 "cells": [
  {
   "cell_type": "code",
   "execution_count": 2,
   "id": "5fd57770",
   "metadata": {},
   "outputs": [],
   "source": [
    "class Graph:\n",
    "    def __init__(self, max_v):\n",
    "        self.max_v = max_v\n",
    "        self.G = {i:[] for i in range(self.max_v)}\n",
    "    def define_G(self, l_v):\n",
    "        self.G = {i:[] for i in l_v}\n",
    "    def addNode(self, v):\n",
    "        self.G[v]=[] \n",
    "        self.max_v+=1\n",
    "        \n",
    "    def add_edge(self, src, dest):\n",
    "        if dest not in self.G[src]:\n",
    "            self.G[src].append(dest)\n",
    "            self.G[dest].append(src)\n",
    "    \n",
    "    def print_g(self):\n",
    "        for i in self.G:\n",
    "            print(i, self.G[i])\n",
    "            \n",
    "    def BFS(self, start):\n",
    "        #Breadth first Search\n",
    "        Q=[]\n",
    "        visited =[start]\n",
    "        Q.append(start)\n",
    "        while Q:\n",
    "            vertex = Q.pop(0)\n",
    "            print(vertex, end= \" \")\n",
    "            for i in self.G[vertex]:\n",
    "                if i not in visited:\n",
    "                    visited.append(i)\n",
    "                    Q.append(i) \n",
    "    def DFS(self, start):\n",
    "        #Breadth first Search\n",
    "        Q=[]\n",
    "        visited =[start]\n",
    "        Q.append(start)\n",
    "        while Q:\n",
    "            vertex = Q.pop()\n",
    "            print(vertex, end= \" \")\n",
    "            for i in self.G[vertex]:\n",
    "                if i not in visited:\n",
    "                    visited.append(i)\n",
    "                    Q.append(i)\n"
   ]
  },
  {
   "cell_type": "code",
   "execution_count": 3,
   "id": "3a49fb9e",
   "metadata": {},
   "outputs": [],
   "source": [
    "g = Graph(5)\n",
    "g.add_edge(0,2)\n",
    "g.add_edge(0,1)\n",
    "g.add_edge(1,4)\n",
    "g.add_edge(1,3)\n",
    "g.add_edge(3,4)\n",
    "\n",
    "g.add_edge(2,4)\n"
   ]
  },
  {
   "cell_type": "code",
   "execution_count": 4,
   "id": "90c2aee2",
   "metadata": {},
   "outputs": [
    {
     "name": "stdout",
     "output_type": "stream",
     "text": [
      "0 [2, 1]\n",
      "1 [0, 4, 3]\n",
      "2 [0, 4]\n",
      "3 [1, 4]\n",
      "4 [1, 3, 2]\n"
     ]
    }
   ],
   "source": [
    "g.print_g()"
   ]
  },
  {
   "cell_type": "code",
   "execution_count": 5,
   "id": "feb388c3",
   "metadata": {},
   "outputs": [
    {
     "name": "stdout",
     "output_type": "stream",
     "text": [
      "0 2 1 4 3 "
     ]
    }
   ],
   "source": [
    "g.BFS(0)"
   ]
  },
  {
   "cell_type": "code",
   "execution_count": 6,
   "id": "cc0fce0a",
   "metadata": {},
   "outputs": [
    {
     "name": "stdout",
     "output_type": "stream",
     "text": [
      "0 1 3 4 2 "
     ]
    }
   ],
   "source": [
    "g.DFS(0)"
   ]
  },
  {
   "cell_type": "code",
   "execution_count": 7,
   "id": "e8cae581",
   "metadata": {},
   "outputs": [
    {
     "ename": "NameError",
     "evalue": "name 'K' is not defined",
     "output_type": "error",
     "traceback": [
      "\u001b[1;31m---------------------------------------------------------------------------\u001b[0m",
      "\u001b[1;31mNameError\u001b[0m                                 Traceback (most recent call last)",
      "\u001b[1;32m<ipython-input-7-9d60f706cc3c>\u001b[0m in \u001b[0;36m<module>\u001b[1;34m\u001b[0m\n\u001b[1;32m----> 1\u001b[1;33m \u001b[0mK\u001b[0m\u001b[1;33m\u001b[0m\u001b[1;33m\u001b[0m\u001b[0m\n\u001b[0m",
      "\u001b[1;31mNameError\u001b[0m: name 'K' is not defined"
     ]
    }
   ],
   "source": [
    "K"
   ]
  },
  {
   "cell_type": "code",
   "execution_count": null,
   "id": "2b4b9426",
   "metadata": {},
   "outputs": [],
   "source": []
  }
 ],
 "metadata": {
  "kernelspec": {
   "display_name": "Python 3 (ipykernel)",
   "language": "python",
   "name": "python3"
  },
  "language_info": {
   "codemirror_mode": {
    "name": "ipython",
    "version": 3
   },
   "file_extension": ".py",
   "mimetype": "text/x-python",
   "name": "python",
   "nbconvert_exporter": "python",
   "pygments_lexer": "ipython3",
   "version": "3.8.8"
  }
 },
 "nbformat": 4,
 "nbformat_minor": 5
}
