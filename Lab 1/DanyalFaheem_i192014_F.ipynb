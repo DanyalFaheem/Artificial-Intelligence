{
 "cells": [
  {
   "cell_type": "markdown",
   "metadata": {},
   "source": [
    "Task 1"
   ]
  },
  {
   "cell_type": "code",
   "execution_count": 21,
   "metadata": {},
   "outputs": [
    {
     "name": "stdout",
     "output_type": "stream",
     "text": [
      "[112.0, 113.5, 189.5, 789.0, 230.2]\n",
      "['bedroom', 'hallway', 'bathroom', 'kitchen', 'living room']\n",
      "['bedroom', 112.0]\n"
     ]
    }
   ],
   "source": [
    "areas = [\"bedroom\", 112.0, \"hallway\", 113.5, \"bathroom\", 189.5, \"kitchen\", 789.0, \"living room\", 230.2]\n",
    "\n",
    "float_area = []\n",
    "str_area = []\n",
    "for area in areas:\n",
    "    if (type(area) == float):\n",
    "        float_area.append(area)\n",
    "    if (type(area) == str):\n",
    "        str_area.append(area)\n",
    "\n",
    "print (float_area[0:])\n",
    "print (str_area[0:])\n",
    "print (areas[0:2])\n"
   ]
  },
  {
   "cell_type": "markdown",
   "metadata": {},
   "source": [
    "Task 2"
   ]
  },
  {
   "cell_type": "code",
   "execution_count": 22,
   "metadata": {},
   "outputs": [
    {
     "name": "stdout",
     "output_type": "stream",
     "text": [
      "['bedroom', 'hallway', 113.5, 'bathroom', 189.5, 'kitchen', 789.0, 'living room', 230.2, ['pool', 112.7, 177.9], ['grg', 112.0], 'pool', 112.7, 177.9, 'grg']\n"
     ]
    }
   ],
   "source": [
    "pool_area = ['pool', 112.7, 177.9]\n",
    "garage = ['grg', 112.0]\n",
    "areas.append(pool_area)\n",
    "areas.append(garage)\n",
    "# print (areas)\n",
    "\n",
    "lits = [[[1, 2, 3], [4, 5]], 6]\n",
    "\n",
    "def app(area, array):\n",
    "    for x in area:\n",
    "        if (type(x) == type(list)):\n",
    "            app(x, array)\n",
    "            for y in x:\n",
    "                array.append(y)\n",
    "    if x in array:\n",
    "        array.remove(x)\n",
    "\n",
    "\n",
    "app (areas, areas)\n",
    "app (lits, lits)\n",
    "# for area in lits: \n",
    "#     if (type(area) == type(list)):\n",
    "#         app(area)\n",
    "# # for area in areas: \n",
    "# #     if (type(area) == type(list)):\n",
    "# #         for x in area:\n",
    "# #             areas.append(x)\n",
    "# #         areas.remove(area)\n",
    "print(areas)\n"
   ]
  },
  {
   "cell_type": "markdown",
   "metadata": {},
   "source": [
    "Task 3"
   ]
  },
  {
   "cell_type": "code",
   "execution_count": 3,
   "metadata": {},
   "outputs": [
    {
     "name": "stdout",
     "output_type": "stream",
     "text": [
      "[[1, 'Jean Castro', 'V'], [2, 'Lula Powell', 'V'], [3, 'Brian Howell', 'VI'], [4, 'Lynne Foster', 'VI'], [5, 'Zachary Simon', 'VII']]\n"
     ]
    }
   ],
   "source": [
    "dict = [{\"student_id\": 1, \"name\": \"Jean Castro\", \"class\": \"V\"}, \n",
    "{\"student_id\": 2, \"name\": \"Lula Powell\", \"class\": \"V\"}, \n",
    "{\"student_id\": 3, \"name\": \"Brian Howell\", \"class\": \"VI\"},\n",
    "{\"student_id\": 4, \"name\": \"Lynne Foster\", \"class\": \"VI\"}, \n",
    "{\"student_id\": 5, \"name\": \"Zachary Simon\", \"class\": \"VII\"}]\n",
    "\n",
    "temp = [\"\",\"\",\"\"]\n",
    "list = []\n",
    "for d in dict:\n",
    "    temp[0:] = [d[\"student_id\"], d[\"name\"], d[\"class\"]]\n",
    "    list.append(temp.copy())\n",
    "\n",
    "print(list)"
   ]
  },
  {
   "cell_type": "markdown",
   "metadata": {},
   "source": [
    "Task 4"
   ]
  },
  {
   "cell_type": "code",
   "execution_count": 47,
   "metadata": {},
   "outputs": [
    {
     "name": "stdout",
     "output_type": "stream",
     "text": [
      "[1, 4, 5, 0, 2, 3, 4, 0, 1, 3, 4, 5, 0, 1, 2, 4, 5, 0, 1, 2, 3, 0, 1, 2, 3, 4]\n"
     ]
    }
   ],
   "source": [
    "Fav_food_items = [[\"pizza\",\"burger\",\"hotdogs\"] ,\n",
    "[\"pasta\",\"hotdogs\"],[\"pizza\"],[\"burger\",\"hotdogs\"],[\"rice\" ,\"pasta\"] ,[\"pasta\"]]\n",
    "\n",
    "set1 = {}\n",
    "set2 = {}\n",
    "index = []\n",
    "for i in Fav_food_items:\n",
    "    for y in Fav_food_items:\n",
    "        set1 = set(y)\n",
    "        set2 = set(i)\n",
    "        if set1.issubset(set2) == False:\n",
    "            index.append(Fav_food_items.index(y))\n",
    "        \n",
    "print(index)"
   ]
  },
  {
   "cell_type": "markdown",
   "metadata": {},
   "source": [
    "Task 5"
   ]
  },
  {
   "cell_type": "code",
   "execution_count": 37,
   "metadata": {},
   "outputs": [
    {
     "name": "stdout",
     "output_type": "stream",
     "text": [
      "(10, 14, 16, 19, 23, 25, 33, 38, 41, 49)\n"
     ]
    }
   ],
   "source": [
    "import random\n",
    "\n",
    "rand = random.sample(range(10 , 50), 10)\n",
    "\n",
    "for x in range(len(rand)):\n",
    "    for y in range(len(rand) - 1):\n",
    "        if (rand[y] > rand[y+1] ):\n",
    "            z = rand[y]\n",
    "            rand[y] = rand[y+1]\n",
    "            rand[y+1] = z\n",
    "\n",
    "rand2 = (*rand, )\n",
    "print(rand2)\n",
    "\n"
   ]
  },
  {
   "cell_type": "code",
   "execution_count": null,
   "metadata": {},
   "outputs": [],
   "source": []
  }
 ],
 "metadata": {
  "interpreter": {
   "hash": "1549ce3063763f935520ac985005088d5bf77a87440f3a3f58b22301df0cff46"
  },
  "kernelspec": {
   "display_name": "Python 3.8.8 64-bit ('DIP': conda)",
   "language": "python",
   "name": "python3"
  },
  "language_info": {
   "codemirror_mode": {
    "name": "ipython",
    "version": 3
   },
   "file_extension": ".py",
   "mimetype": "text/x-python",
   "name": "python",
   "nbconvert_exporter": "python",
   "pygments_lexer": "ipython3",
   "version": "3.8.8"
  },
  "orig_nbformat": 4
 },
 "nbformat": 4,
 "nbformat_minor": 2
}
