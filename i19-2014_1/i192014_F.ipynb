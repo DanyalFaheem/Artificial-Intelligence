{
 "cells": [
  {
   "cell_type": "markdown",
   "metadata": {},
   "source": [
    "Danyal Faheem\n",
    "19I-2014 CS-F\n",
    "Assignment 1"
   ]
  },
  {
   "cell_type": "markdown",
   "metadata": {},
   "source": [
    "Importing our dataset here and creating relevant dictionaries"
   ]
  },
  {
   "cell_type": "code",
   "execution_count": 1,
   "metadata": {},
   "outputs": [],
   "source": [
    "# Danyal Faheem\n",
    "# 19I-2014 CS-F\n",
    "# Assignment 1\n",
    "# Reading Files here\n",
    "import copy\n",
    "file = open(\"data3.txt\")\n",
    "str = file.readline()\n",
    "char = str[0]\n",
    "parent = dict()\n",
    "table = dict()\n",
    "# Reading file line by line as we create dictionaries\n",
    "while str:\n",
    "    # Check if starting letter has changed\n",
    "    if char == str[0]:\n",
    "        # Tokenizing the line\n",
    "        str = str.strip().split(\",\")\n",
    "        # Checking if multiple parent sets avaible\n",
    "        if len(str) > 1:\n",
    "            if len(str) == 4:\n",
    "                str = [str[0], \",\".join([str[1], str[2]]),  str[3]]\n",
    "            parent[str[1]] = str[2]\n",
    "    else:\n",
    "        # If letter has changed add all of the current set to one dictionary\n",
    "        table[char] = copy.deepcopy(parent)\n",
    "        # Clear the current set\n",
    "        parent.clear()\n",
    "        # Making sure that current read line is also included\n",
    "        str = str.strip().split(\",\")\n",
    "        if len(str) > 1:\n",
    "            if len(str) == 4:\n",
    "                str = [str[0], \",\".join([str[1], str[2]]),  str[3]]\n",
    "            parent[str[1]] = str[2]\n",
    "    # Reiterate with next line\n",
    "    char = str[0]\n",
    "    str = file.readline()\n",
    "\n",
    "# Adding last set to dictionary\n",
    "table[char] = copy.deepcopy(parent)\n",
    "file.close()\n",
    "\n",
    "# Removing any extra empty lines that we might have read\n",
    "delete = []\n",
    "for x in table:\n",
    "    if x == \"\":\n",
    "        delete.append(x)\n",
    "\n",
    "for y in delete:\n",
    "    table.pop(y)\n",
    "\n",
    "# Printing our dictionaries that we created\n",
    "# for x in table:\n",
    "#     print(x, \" ->\")\n",
    "#     for y in table[x]:\n",
    "#         print(y, \":\", table[x][y])\n",
    "# # print(table)\n"
   ]
  },
  {
   "cell_type": "markdown",
   "metadata": {},
   "source": [
    "Cost Calculation Function for each ordering set"
   ]
  },
  {
   "cell_type": "code",
   "execution_count": 2,
   "metadata": {},
   "outputs": [
    {
     "name": "stdout",
     "output_type": "stream",
     "text": [
      "{}->169.482\n",
      "{2}->291.058\n",
      "{5}->327.566\n",
      "{3}->369.34099999999995\n",
      "{1}->465.43399999999997\n",
      "('4', '2', '5', '3', '1') 465.43399999999997\n"
     ]
    }
   ],
   "source": [
    "from itertools import permutations\n",
    "# Our main function which takes the orderingSet as input and returns its cost based on the table created above\n",
    "def calculateCost(orderingSet, printPath=False):\n",
    "    cost = 0\n",
    "    index = \"\"\n",
    "    # Iterate over the set\n",
    "    for i in range(len(orderingSet)):\n",
    "        # If first index, meaning no parent\n",
    "        if i == 0 and table[orderingSet[i]].get(\"{}\") != None:\n",
    "            index = \"{}\"\n",
    "            cost += float(table[orderingSet[i]][index])\n",
    "        # If not the first index\n",
    "        else:\n",
    "            check = False\n",
    "            minCost = 100000000\n",
    "            # Iterating over each parent index of the current index\n",
    "            for y in range(i + 1):\n",
    "                # Checking if double parents have a cost that is less\n",
    "                if y > 1:\n",
    "                    index = \"{\" + orderingSet[y - 2] + \",\" + orderingSet[y - 1] + \"}\"\n",
    "                    if table[orderingSet[i]].get(index) != None and minCost > float(table[orderingSet[i]][index]):\n",
    "                        minCost = float(table[orderingSet[i]][index])\n",
    "                        check = True\n",
    "                # Checking for each possible parent set\n",
    "                index = \"{\" + orderingSet[y] + \"}\"\n",
    "                if table[orderingSet[i]].get(index) != None and minCost > float(table[orderingSet[i]][index]):\n",
    "                    minCost = float(table[orderingSet[i]][index])\n",
    "                    check = True \n",
    "            # If no parent set found, then assign empty set   \n",
    "            if check == False and table[orderingSet[i]].get(\"{}\") != None:\n",
    "                index = \"{}\"\n",
    "                minCost = float(table[orderingSet[i]][index])\n",
    "                cost += minCost\n",
    "            # If empty set has less cost\n",
    "            if table[orderingSet[i]].get(\"{}\") != None and minCost > float(table[orderingSet[i]][\"{}\"]):\n",
    "                index = \"{}\"\n",
    "                cost += float(table[orderingSet[i]][index])\n",
    "                check = False\n",
    "            # Finally add the cost\n",
    "            if check == True:\n",
    "                cost += minCost\n",
    "        # Printing path if parameter passed\n",
    "        if printPath:\n",
    "            print(index, end=\"->\")\n",
    "            print(cost)\n",
    "    return cost\n",
    "\n",
    "# Checking for all permutations using the built in permutations function\n",
    "orderingSet = [x for x in table]\n",
    "minSet = []\n",
    "miniCost = 100000000\n",
    "\n",
    "for set1 in permutations(orderingSet):\n",
    "    # print(set, calculateCost(set))\n",
    "    if miniCost > calculateCost(set1):\n",
    "        miniCost = calculateCost(set1)\n",
    "        minSet = set1\n",
    "\n",
    "print(minSet, calculateCost(minSet, 1))"
   ]
  },
  {
   "cell_type": "markdown",
   "metadata": {},
   "source": [
    "Making our Graph and Node Class "
   ]
  },
  {
   "cell_type": "code",
   "execution_count": 3,
   "metadata": {},
   "outputs": [],
   "source": [
    "import numpy as np\n",
    "\n",
    "class Node:\n",
    "    def __init__(self, vertix):\n",
    "        self.vertix = vertix\n",
    "        self.edges = []\n",
    "\n",
    "    def addEdge(self, edge):\n",
    "        if edge not in self.edges:\n",
    "            self.edges.append(edge)\n",
    "\n",
    "    def removeEdge(self, edge):\n",
    "        if edge in self.edges:\n",
    "            self.edges.remove(edge)\n",
    "\n",
    "    def printNode(self):\n",
    "        print(np.matrix(self.vertix), \"->\",  self.edges)\n",
    "\n",
    "    def __repr__(self):\n",
    "        return str(self.vertix) + str(self.edges)\n",
    "\n",
    "    def __str__(self):\n",
    "        return str(self.vertix) + str(self.edges)\n",
    "\n",
    "    def getVertix(self):\n",
    "        return self.vertix\n",
    "\n",
    "    def getEdges(self):\n",
    "        return self.edges\n",
    "\n",
    "\n",
    "class Graph:\n",
    "    def __init__(self):\n",
    "        self.noOfVertices = 0\n",
    "        self.G = []\n",
    "\n",
    "    def addNode(self, vertix):\n",
    "        if vertix not in self.G:\n",
    "            self.G.append(Node(vertix))\n",
    "            self.noOfVertices += 1\n",
    "\n",
    "    def printGraph(self):\n",
    "        for i in self.G:\n",
    "            print(i.printNode())\n",
    "\n",
    "    def addEdge(self, src, dest):\n",
    "        if self.findNode(src) != -1 and self.findNode(dest) != -1:\n",
    "            self.G[self.findNode(src)].addEdge(dest)\n",
    "            self.G[self.findNode(dest)].addEdge(src)\n",
    "\n",
    "    def findNode(self, node):\n",
    "        for nodes in self.G:\n",
    "            if nodes.getVertix() == node:\n",
    "                return self.G.index(nodes)\n",
    "        return -1\n"
   ]
  },
  {
   "cell_type": "markdown",
   "metadata": {},
   "source": [
    "Applying BFS to get minimum cost"
   ]
  },
  {
   "cell_type": "code",
   "execution_count": 4,
   "metadata": {},
   "outputs": [
    {
     "name": "stdout",
     "output_type": "stream",
     "text": [
      "{}->169.802\n",
      "{3}->211.577\n",
      "{1}->307.67\n",
      "{4}->343.858\n",
      "{2}->465.43399999999997\n",
      "('5', '3', '1', '4', '2') 465.43399999999997\n"
     ]
    }
   ],
   "source": [
    "# Breadth First Search on our current problem, takes no input parameters, prints the minimum cost, orderingSet and it's path taken\n",
    "def BFS():\n",
    "    # Intialize our variables\n",
    "    visited = []\n",
    "    minimumCost = 10000000\n",
    "    minimumCostNode = []\n",
    "    # orderingSet here is our in order read file possible vertices\n",
    "    orderingSet = [x for x in table]\n",
    "    queue = [tuple(orderingSet)]\n",
    "    currentNode = tuple()\n",
    "    # Iterate while there is something in queue\n",
    "    while queue:\n",
    "        # Using FIFO strategy, remove from front of queue\n",
    "        currentNode = queue.pop(0)\n",
    "        # Check if already visited, if not then perform operations\n",
    "        if currentNode not in visited:\n",
    "            visited.append(currentNode)\n",
    "            # Checking for minimum Cost node\n",
    "            if minimumCost > calculateCost(currentNode):\n",
    "                minimumCost = calculateCost(currentNode)\n",
    "                minimumCostNode = currentNode\n",
    "            # Generate new nodes to add to queue\n",
    "            for i in range(len(orderingSet)):\n",
    "                currentNodeCopy = list(copy.deepcopy(currentNode))\n",
    "                # Using a cyclic swapping strategy, iterate over all possible combinations\n",
    "                currentNodeCopy[i], currentNodeCopy[(i + 1) % len(orderingSet)] = currentNodeCopy[(i + 1) % len(orderingSet)], currentNodeCopy[i]\n",
    "                if tuple(currentNodeCopy) not in visited and tuple(currentNodeCopy) not in queue:\n",
    "                    # Add to queue\n",
    "                    queue.append(tuple(currentNodeCopy))\n",
    "    # Print the minimum cost ordering set as well as it's cost and path taken by each parent\n",
    "    print(minimumCostNode, calculateCost(minimumCostNode, 1))\n",
    "BFS()"
   ]
  },
  {
   "cell_type": "markdown",
   "metadata": {},
   "source": [
    "Applying DFS to get minimum cost"
   ]
  },
  {
   "cell_type": "code",
   "execution_count": 5,
   "metadata": {},
   "outputs": [
    {
     "name": "stdout",
     "output_type": "stream",
     "text": [
      "{}->169.482\n",
      "{2}->291.058\n",
      "{5}->327.566\n",
      "{3}->369.34099999999995\n",
      "{1}->465.43399999999997\n",
      "('4', '2', '5', '3', '1') 465.43399999999997\n"
     ]
    }
   ],
   "source": [
    "# Depth First Search on our current problem, takes no input parameters, prints the minimum cost, orderingSet and it's path taken\n",
    "def DFS():\n",
    "    # Intialize our variables\n",
    "    visited = []\n",
    "    minimumCost = 10000000\n",
    "    minimumCostNode = []\n",
    "    # orderingSet here is our in order read file possible vertices\n",
    "    orderingSet = [x for x in table]\n",
    "    stack = [tuple(orderingSet)]\n",
    "    currentNode = tuple()\n",
    "    # Iterate while there is something in stack\n",
    "    while stack:\n",
    "        # Using LIFO strategy, remove from front of stack\n",
    "        currentNode = stack.pop()\n",
    "        # Check if already visited, if not then perform operations\n",
    "        if currentNode not in visited:\n",
    "            visited.append(currentNode)\n",
    "            # Checking for minimum Cost node\n",
    "            if minimumCost > calculateCost(currentNode):\n",
    "                minimumCost = calculateCost(currentNode)\n",
    "                minimumCostNode = currentNode\n",
    "            # Generate new nodes to add to stack\n",
    "            for i in range(len(orderingSet)):\n",
    "                currentNodeCopy = list(copy.deepcopy(currentNode))\n",
    "                # Using a cyclic swapping strategy, iterate over all possible combinations\n",
    "                currentNodeCopy[i], currentNodeCopy[(i + 1) % len(orderingSet)] = currentNodeCopy[(i + 1) % len(orderingSet)], currentNodeCopy[i]\n",
    "                if tuple(currentNodeCopy) not in visited and tuple(currentNodeCopy) not in stack:\n",
    "                    # Add to stack\n",
    "                    stack.append(tuple(currentNodeCopy))\n",
    "    # Print the minimum cost ordering set as well as it's cost and path taken by each parent\n",
    "    print(minimumCostNode, calculateCost(minimumCostNode, 1))\n",
    "DFS()"
   ]
  },
  {
   "cell_type": "markdown",
   "metadata": {},
   "source": [
    "Applying UCS to get minimum cost"
   ]
  },
  {
   "cell_type": "code",
   "execution_count": 6,
   "metadata": {},
   "outputs": [
    {
     "name": "stdout",
     "output_type": "stream",
     "text": [
      "{}->169.802\n",
      "{3}->211.577\n",
      "{1}->307.67\n",
      "{4}->343.858\n",
      "{2}->465.43399999999997\n",
      "('5', '3', '1', '4', '2') 465.43399999999997\n"
     ]
    }
   ],
   "source": [
    "def sortFringe(fringe):\n",
    "    for i in range(len(fringe)):\n",
    "        check = False\n",
    "        for j in range(i + 1, len(fringe) - 1):\n",
    "            if calculateCost(fringe[j]) > calculateCost(fringe[j + 1]):\n",
    "                fringe[j], fringe[j + 1] = fringe[j + 1], fringe[j]\n",
    "                check = True\n",
    "        if check == False:\n",
    "            return fringe\n",
    "    return fringe\n",
    "\n",
    "# Uniform Cost Search on our current problem, takes no input parameters, prints the minimum cost, orderingSet and it's path taken\n",
    "def UCS():\n",
    "    # Intialize our variables\n",
    "    visited = []\n",
    "    minimumCost = 10000000\n",
    "    minimumCostNode = []\n",
    "    # orderingSet here is our in order read file possible vertices\n",
    "    orderingSet = [x for x in table]\n",
    "    fringe = [tuple(orderingSet)]\n",
    "    currentNode = tuple()\n",
    "    # Iterate while there is something in fringe\n",
    "    while fringe:\n",
    "        # Sort fringe to put the shortest cost path at the front of fringe\n",
    "        fringe = sortFringe(fringe)\n",
    "        # Using FIFO strategy, remove from front of fringe\n",
    "        currentNode = fringe.pop(0)\n",
    "        # Check if already visited, if not then perform operations\n",
    "        if currentNode not in visited:\n",
    "            visited.append(currentNode)\n",
    "            # Checking for minimum Cost node\n",
    "            if minimumCost > calculateCost(currentNode):\n",
    "                minimumCost = calculateCost(currentNode)\n",
    "                minimumCostNode = currentNode\n",
    "            # Generate new nodes to add to fringe\n",
    "            for i in range(len(orderingSet)):\n",
    "                currentNodeCopy = list(copy.deepcopy(currentNode))\n",
    "                # Using a cyclic swapping strategy, iterate over all possible combinations\n",
    "                currentNodeCopy[i], currentNodeCopy[(i + 1) % len(orderingSet)] = currentNodeCopy[(i + 1) % len(orderingSet)], currentNodeCopy[i]\n",
    "                if tuple(currentNodeCopy) not in visited and tuple(currentNodeCopy) not in fringe:\n",
    "                    # Add to queue\n",
    "                    fringe.append(tuple(currentNodeCopy))\n",
    "    # Print the minimum cost ordering set as well as it's cost and path taken by each parent\n",
    "    print(minimumCostNode, calculateCost(minimumCostNode, 1))\n",
    "UCS()"
   ]
  }
 ],
 "metadata": {
  "interpreter": {
   "hash": "7fee64b6d10f71b2ad32d2aedca1959ec8ccaf90c3c6db5aa37e1a96c8621a02"
  },
  "kernelspec": {
   "display_name": "Python 3.8.8 ('DIP')",
   "language": "python",
   "name": "python3"
  },
  "language_info": {
   "codemirror_mode": {
    "name": "ipython",
    "version": 3
   },
   "file_extension": ".py",
   "mimetype": "text/x-python",
   "name": "python",
   "nbconvert_exporter": "python",
   "pygments_lexer": "ipython3",
   "version": "3.8.8"
  },
  "orig_nbformat": 4
 },
 "nbformat": 4,
 "nbformat_minor": 2
}
